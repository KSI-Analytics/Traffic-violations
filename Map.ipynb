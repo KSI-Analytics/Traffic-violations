{
 "cells": [
  {
   "cell_type": "code",
   "execution_count": 7,
   "id": "4064aa7d-cd7f-4726-b48b-cd1faa16d0b8",
   "metadata": {},
   "outputs": [],
   "source": [
    "import folium\n",
    "from folium.plugins import FastMarkerCluster\n",
    "import pandas as pd\n",
    "\n",
    "data= pd.read_csv(\"Traffic_Violations.csv\")\n",
    "sample = data.sample(n=1000, random_state=5)\n",
    "\n",
    "map = folium.Map(location= [sample.Latitude.mean(), sample.Longitude.mean()], zoom_start=10)\n",
    "points = list(zip(sample.Latitude, sample.Longitude))\n",
    "FastMarkerCluster(points).add_to(map)\n",
    "\n",
    "map.save(\"big_data_project_map.html\")"
   ]
  },
  {
   "cell_type": "code",
   "execution_count": null,
   "id": "85daf3ef-8209-4ec6-8a27-19af8656cb24",
   "metadata": {},
   "outputs": [],
   "source": []
  }
 ],
 "metadata": {
  "kernelspec": {
   "display_name": "Python [conda env:base] *",
   "language": "python",
   "name": "conda-base-py"
  },
  "language_info": {
   "codemirror_mode": {
    "name": "ipython",
    "version": 3
   },
   "file_extension": ".py",
   "mimetype": "text/x-python",
   "name": "python",
   "nbconvert_exporter": "python",
   "pygments_lexer": "ipython3",
   "version": "3.12.7"
  }
 },
 "nbformat": 4,
 "nbformat_minor": 5
}
