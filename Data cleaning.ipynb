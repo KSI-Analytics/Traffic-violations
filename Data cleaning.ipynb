{
 "cells": [
  {
   "cell_type": "code",
   "execution_count": 2,
   "metadata": {},
   "outputs": [],
   "source": [
    "import pandas as pd\n",
    "\n",
    "df = pd.read_csv(\"Traffic_Violations.csv\")\n",
    "\n",
    "# Standardizeing column name\n",
    "df.columns = df.columns.str.strip().str.lower().str.replace(\" \", \"_\")"
   ]
  },
  {
   "cell_type": "code",
   "execution_count": 3,
   "metadata": {},
   "outputs": [],
   "source": [
    "# Converting date and time\n",
    "df['date_of_stop'] = pd.to_datetime(df['date_of_stop'], errors='coerce')\n",
    "df['time_of_stop'] = pd.to_datetime(df['time_of_stop'], format='%H:%M:%S', errors='coerce').dt.time\n",
    "\n",
    "# Extracting the features for forecasting\n",
    "df['hour'] = pd.to_datetime(df['time_of_stop'], errors='coerce').dt.hour\n",
    "df['day_of_week'] = df['date_of_stop'].dt.day_name()\n",
    "df['month'] = df['date_of_stop'].dt.month\n",
    "\n",
    "# Converting coordinates to numeric for mapping\n",
    "df['latitude'] = pd.to_numeric(df['latitude'], errors='coerce')\n",
    "df['longitude'] = pd.to_numeric(df['longitude'], errors='coerce')\n",
    "\n",
    "# Convert the Yes/No or True/False columns to Boolean\n",
    "bool_cols = ['accident', 'belts', 'personal_injury', 'property_damage', 'fatal',\n",
    "             'commercial_license', 'hazmat', 'commercial_vehicle', 'alcohol', 'work_zone',\n",
    "             'search_conducted', 'search_person', 'search_vehicle', 'contraband_found',\n",
    "             'attributed_to_accident']\n",
    "for col in bool_cols:\n",
    "    if col in df.columns:\n",
    "        df[col] = df[col].astype(str).str.lower().map({'yes': True, 'no': False, 'true': True, 'false': False})\n",
    "\n",
    "\n",
    "# Filling in missing categorical values\n",
    "fill_cols = ['gender', 'race', 'driver_city', 'driver_state', 'vehicle_type', 'make', 'model', 'arrest_type']\n",
    "for col in fill_cols:\n",
    "    if col in df.columns:\n",
    "        df[col] = df[col].fillna('Unknown')\n",
    "\n",
    "# Dropping invalid or missing essential values\n",
    "df.dropna(subset=['date_of_stop', 'latitude', 'longitude'], inplace=True)\n",
    "df.drop_duplicates(inplace=True)\n"
   ]
  },
  {
   "cell_type": "code",
   "execution_count": 4,
   "metadata": {},
   "outputs": [
    {
     "name": "stdout",
     "output_type": "stream",
     "text": [
      "Cleaned dataset saved as 'cleaned_traffic_violations.csv'\n"
     ]
    }
   ],
   "source": [
    "\n",
    "df.to_csv(\"cleaned_traffic_violations.csv\", index=False)\n",
    "print(\"Cleaned dataset saved as 'cleaned_traffic_violations.csv'\")"
   ]
  }
 ],
 "metadata": {
  "kernelspec": {
   "display_name": ".venv",
   "language": "python",
   "name": "python3"
  },
  "language_info": {
   "codemirror_mode": {
    "name": "ipython",
    "version": 3
   },
   "file_extension": ".py",
   "mimetype": "text/x-python",
   "name": "python",
   "nbconvert_exporter": "python",
   "pygments_lexer": "ipython3",
   "version": "3.9.10"
  }
 },
 "nbformat": 4,
 "nbformat_minor": 2
}
