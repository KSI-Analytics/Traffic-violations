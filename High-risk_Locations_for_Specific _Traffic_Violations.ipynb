{
 "cells": [
  {
   "cell_type": "markdown",
   "id": "cabf331a-4031-4597-b893-9c02e11265fd",
   "metadata": {},
   "source": [
    "Cleaning the dataset"
   ]
  },
  {
   "cell_type": "code",
   "execution_count": null,
   "id": "b9a1a16f-95a0-4d3d-b164-2fb405762946",
   "metadata": {},
   "outputs": [],
   "source": [
    "import pandas as pd\n",
    "\n",
    "#Reading from the csv & loading the dataframe\n",
    "data = pd.read_csv('Traffic_Violations.csv')\n",
    "\n",
    "#Testing if it read from the csv\n",
    "print(data.head(15)) \n",
    "print('\\n')\n",
    "\n",
    "#Identifying the current data types\n",
    "print(\"Exploring the Data\")\n",
    "print(data.info())\n",
    "print('\\n')"
   ]
  }
 ],
 "metadata": {
  "kernelspec": {
   "display_name": "Python [conda env:base] *",
   "language": "python",
   "name": "conda-base-py"
  },
  "language_info": {
   "codemirror_mode": {
    "name": "ipython",
    "version": 3
   },
   "file_extension": ".py",
   "mimetype": "text/x-python",
   "name": "python",
   "nbconvert_exporter": "python",
   "pygments_lexer": "ipython3",
   "version": "3.12.7"
  }
 },
 "nbformat": 4,
 "nbformat_minor": 5
}
